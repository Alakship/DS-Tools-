{
 "cells": [
  {
   "cell_type": "markdown",
   "id": "53abf5c2",
   "metadata": {},
   "source": [
    "# Data Science Tools and Ecosystem"
   ]
  },
  {
   "cell_type": "markdown",
   "id": "41a0e304",
   "metadata": {},
   "source": [
    "In this notebook,Data Science Tools and Ecosystem are summerized."
   ]
  },
  {
   "cell_type": "markdown",
   "id": "e2ebe8f2",
   "metadata": {},
   "source": [
    "Some of the popular languages that Data Scientists are summerized.\n",
    "1. Python\n",
    "2. R\n",
    "3. SQL\n",
    "4. C++\n",
    "5. Java etc...;"
   ]
  },
  {
   "cell_type": "markdown",
   "id": "cc8bc06f",
   "metadata": {},
   "source": [
    "some of the commonly used libraries used by  Data Scientists include:\n",
    "1. Tensorflow\n",
    "2. Numby\n",
    "3. Pandas\n",
    "4. Matplotlib\n",
    "5. Scipy\n",
    "6. Keras\n",
    "7. Scikit-learn\n",
    "8. Pytorch. etc..;"
   ]
  },
  {
   "cell_type": "markdown",
   "id": "eae3eb61",
   "metadata": {},
   "source": [
    "|Data Science Tools|\n",
    "|------|\n",
    "|SAS|\n",
    "|Apache Hadoop|\n",
    "|Tensorflow|\n",
    "|Anaconda|\n",
    "|R studio|\n",
    "|Spyder|"
   ]
  },
  {
   "cell_type": "markdown",
   "id": "3df80f99",
   "metadata": {},
   "source": [
    "### Below  are a few examples of evaluating  arithmatic  expression in Python "
   ]
  },
  {
   "cell_type": "code",
   "execution_count": 1,
   "id": "a3b69b01",
   "metadata": {},
   "outputs": [
    {
     "data": {
      "text/plain": [
       "17"
      ]
     },
     "execution_count": 1,
     "metadata": {},
     "output_type": "execute_result"
    }
   ],
   "source": [
    "#this is the common arithmatic examples to multiply and then add integers\n",
    "(3*4)+5"
   ]
  },
  {
   "cell_type": "code",
   "execution_count": 2,
   "id": "889fdb38",
   "metadata": {},
   "outputs": [
    {
     "data": {
      "text/plain": [
       "3.3333333333333335"
      ]
     },
     "execution_count": 2,
     "metadata": {},
     "output_type": "execute_result"
    }
   ],
   "source": [
    "#this will convert 200 minutes to hours by dividing by 60\n",
    "200/60"
   ]
  },
  {
   "cell_type": "markdown",
   "id": "43bfdbf5",
   "metadata": {},
   "source": [
    "__Oblective___\n",
    "* List popular languages for Data Science\n",
    "* List popular libraries for Data Science\n",
    "* List of well known Data Sciece tools\n",
    "* How to provide comments in the cell"
   ]
  },
  {
   "cell_type": "markdown",
   "id": "e7947da9",
   "metadata": {},
   "source": [
    "## Author\n",
    "Adhikarige Lakshani Pramodhya"
   ]
  },
  {
   "cell_type": "code",
   "execution_count": null,
   "id": "e420f99f",
   "metadata": {},
   "outputs": [],
   "source": []
  }
 ],
 "metadata": {
  "kernelspec": {
   "display_name": "Python 3",
   "language": "python",
   "name": "python3"
  },
  "language_info": {
   "codemirror_mode": {
    "name": "ipython",
    "version": 3
   },
   "file_extension": ".py",
   "mimetype": "text/x-python",
   "name": "python",
   "nbconvert_exporter": "python",
   "pygments_lexer": "ipython3",
   "version": "3.8.8"
  }
 },
 "nbformat": 4,
 "nbformat_minor": 5
}
